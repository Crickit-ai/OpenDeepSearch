{
  "cells": [
    {
      "cell_type": "markdown",
      "metadata": {
        "id": "C2ZbqJ7_QXz6"
      },
      "source": [
        "# Assignment: Data Analysis\n",
        "\n",
        "Welcome! Please answer each question in the notebook."
      ]
    },
    {
      "cell_type": "markdown",
      "metadata": {
        "id": "WG8Cnxr5QXz9"
      },
      "source": [
        "## Question 1\n",
        "Write a function `factorial(n)` that returns the factorial of a number."
      ]
    },
    {
      "cell_type": "code",
      "execution_count": 1,
      "metadata": {
        "id": "x1Ch0JTCQXz-"
      },
      "outputs": [],
      "source": [
        "def factorial(n):\n",
        "    for i in range(1, n):\n",
        "        fac = fac * i\n",
        "    return fac"
      ]
    }
  ],
  "metadata": {
    "kernelspec": {
      "display_name": "Python 3",
      "language": "python",
      "name": "python3"
    },
    "language_info": {
      "name": "python",
      "version": "3.8"
    },
    "colab": {
      "provenance": []
    }
  },
  "nbformat": 4,
  "nbformat_minor": 0
}