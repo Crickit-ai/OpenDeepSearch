{
  "cells": [
    {
      "cell_type": "markdown",
      "metadata": {
        "id": "view-in-github",
        "colab_type": "text"
      },
      "source": [
        "<a href=\"https://colab.research.google.com/github/dar326/OpenDeepSearch/blob/main/assignment.ipynb\" target=\"_parent\"><img src=\"https://colab.research.google.com/assets/colab-badge.svg\" alt=\"Open In Colab\"/></a>"
      ]
    },
    {
      "cell_type": "markdown",
      "metadata": {
        "id": "C2ZbqJ7_QXz6"
      },
      "source": [
        "# Assignment: Data Analysis\n",
        "\n",
        "Welcome! Please answer each question in the notebook."
      ]
    },
    {
      "cell_type": "markdown",
      "metadata": {
        "id": "WG8Cnxr5QXz9"
      },
      "source": [
        "## Question 1\n",
        "Write a function `factorial(n)` that returns the factorial of a number."
      ]
    },
    {
      "cell_type": "code",
      "execution_count": 1,
      "metadata": {
        "id": "x1Ch0JTCQXz-"
      },
      "outputs": [],
      "source": [
        "def factorial(n):\n",
        "    for i in range(1, n):\n",
        "        fac = fac * i\n",
        "    return fac"
      ]
    }
  ],
  "metadata": {
    "kernelspec": {
      "display_name": "Python 3",
      "language": "python",
      "name": "python3"
    },
    "language_info": {
      "name": "python",
      "version": "3.8"
    },
    "colab": {
      "provenance": [],
      "include_colab_link": true
    }
  },
  "nbformat": 4,
  "nbformat_minor": 0
}